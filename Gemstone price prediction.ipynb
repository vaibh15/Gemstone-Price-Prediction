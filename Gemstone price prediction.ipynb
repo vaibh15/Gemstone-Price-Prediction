{
 "cells": [
  {
   "cell_type": "code",
   "execution_count": 1,
   "id": "a2de219e",
   "metadata": {},
   "outputs": [],
   "source": [
    "#required Libraries\n",
    "\n",
    "import pandas as pd\n",
    "import numpy as np\n",
    "import seaborn as sns\n",
    "import matplotlib.pyplot as plt\n",
    "from sklearn.preprocessing import LabelEncoder"
   ]
  },
  {
   "cell_type": "code",
   "execution_count": 2,
   "id": "6218b8b7",
   "metadata": {},
   "outputs": [],
   "source": [
    "#reading the file\n",
    "#give path if required\n",
    "\n",
    "data = pd.read_csv(\"cubic_zirconia.csv\")"
   ]
  },
  {
   "cell_type": "code",
   "execution_count": 3,
   "id": "d95548f4",
   "metadata": {},
   "outputs": [
    {
     "name": "stdout",
     "output_type": "stream",
     "text": [
      "(26967, 10)\n",
      "Index(['carat', 'cut', 'color', 'clarity', 'depth', 'table', 'x', 'y', 'z',\n",
      "       'price'],\n",
      "      dtype='object')\n"
     ]
    }
   ],
   "source": [
    "data.drop(columns=['Unnamed: 0'], axis=1, inplace=True)\n",
    "print(data.shape)\n",
    "print(data.columns)"
   ]
  },
  {
   "cell_type": "code",
   "execution_count": 4,
   "id": "ec4ae89f",
   "metadata": {},
   "outputs": [
    {
     "data": {
      "text/html": [
       "<div>\n",
       "<style scoped>\n",
       "    .dataframe tbody tr th:only-of-type {\n",
       "        vertical-align: middle;\n",
       "    }\n",
       "\n",
       "    .dataframe tbody tr th {\n",
       "        vertical-align: top;\n",
       "    }\n",
       "\n",
       "    .dataframe thead th {\n",
       "        text-align: right;\n",
       "    }\n",
       "</style>\n",
       "<table border=\"1\" class=\"dataframe\">\n",
       "  <thead>\n",
       "    <tr style=\"text-align: right;\">\n",
       "      <th></th>\n",
       "      <th>carat</th>\n",
       "      <th>depth</th>\n",
       "      <th>table</th>\n",
       "      <th>x</th>\n",
       "      <th>y</th>\n",
       "      <th>z</th>\n",
       "      <th>price</th>\n",
       "    </tr>\n",
       "  </thead>\n",
       "  <tbody>\n",
       "    <tr>\n",
       "      <th>count</th>\n",
       "      <td>26967.000000</td>\n",
       "      <td>26270.000000</td>\n",
       "      <td>26967.000000</td>\n",
       "      <td>26967.000000</td>\n",
       "      <td>26967.000000</td>\n",
       "      <td>26967.000000</td>\n",
       "      <td>26967.000000</td>\n",
       "    </tr>\n",
       "    <tr>\n",
       "      <th>mean</th>\n",
       "      <td>0.798375</td>\n",
       "      <td>61.745147</td>\n",
       "      <td>57.456080</td>\n",
       "      <td>5.729854</td>\n",
       "      <td>5.733569</td>\n",
       "      <td>3.538057</td>\n",
       "      <td>3939.518115</td>\n",
       "    </tr>\n",
       "    <tr>\n",
       "      <th>std</th>\n",
       "      <td>0.477745</td>\n",
       "      <td>1.412860</td>\n",
       "      <td>2.232068</td>\n",
       "      <td>1.128516</td>\n",
       "      <td>1.166058</td>\n",
       "      <td>0.720624</td>\n",
       "      <td>4024.864666</td>\n",
       "    </tr>\n",
       "    <tr>\n",
       "      <th>min</th>\n",
       "      <td>0.200000</td>\n",
       "      <td>50.800000</td>\n",
       "      <td>49.000000</td>\n",
       "      <td>0.000000</td>\n",
       "      <td>0.000000</td>\n",
       "      <td>0.000000</td>\n",
       "      <td>326.000000</td>\n",
       "    </tr>\n",
       "    <tr>\n",
       "      <th>25%</th>\n",
       "      <td>0.400000</td>\n",
       "      <td>61.000000</td>\n",
       "      <td>56.000000</td>\n",
       "      <td>4.710000</td>\n",
       "      <td>4.710000</td>\n",
       "      <td>2.900000</td>\n",
       "      <td>945.000000</td>\n",
       "    </tr>\n",
       "    <tr>\n",
       "      <th>50%</th>\n",
       "      <td>0.700000</td>\n",
       "      <td>61.800000</td>\n",
       "      <td>57.000000</td>\n",
       "      <td>5.690000</td>\n",
       "      <td>5.710000</td>\n",
       "      <td>3.520000</td>\n",
       "      <td>2375.000000</td>\n",
       "    </tr>\n",
       "    <tr>\n",
       "      <th>75%</th>\n",
       "      <td>1.050000</td>\n",
       "      <td>62.500000</td>\n",
       "      <td>59.000000</td>\n",
       "      <td>6.550000</td>\n",
       "      <td>6.540000</td>\n",
       "      <td>4.040000</td>\n",
       "      <td>5360.000000</td>\n",
       "    </tr>\n",
       "    <tr>\n",
       "      <th>max</th>\n",
       "      <td>4.500000</td>\n",
       "      <td>73.600000</td>\n",
       "      <td>79.000000</td>\n",
       "      <td>10.230000</td>\n",
       "      <td>58.900000</td>\n",
       "      <td>31.800000</td>\n",
       "      <td>18818.000000</td>\n",
       "    </tr>\n",
       "  </tbody>\n",
       "</table>\n",
       "</div>"
      ],
      "text/plain": [
       "              carat         depth         table             x             y  \\\n",
       "count  26967.000000  26270.000000  26967.000000  26967.000000  26967.000000   \n",
       "mean       0.798375     61.745147     57.456080      5.729854      5.733569   \n",
       "std        0.477745      1.412860      2.232068      1.128516      1.166058   \n",
       "min        0.200000     50.800000     49.000000      0.000000      0.000000   \n",
       "25%        0.400000     61.000000     56.000000      4.710000      4.710000   \n",
       "50%        0.700000     61.800000     57.000000      5.690000      5.710000   \n",
       "75%        1.050000     62.500000     59.000000      6.550000      6.540000   \n",
       "max        4.500000     73.600000     79.000000     10.230000     58.900000   \n",
       "\n",
       "                  z         price  \n",
       "count  26967.000000  26967.000000  \n",
       "mean       3.538057   3939.518115  \n",
       "std        0.720624   4024.864666  \n",
       "min        0.000000    326.000000  \n",
       "25%        2.900000    945.000000  \n",
       "50%        3.520000   2375.000000  \n",
       "75%        4.040000   5360.000000  \n",
       "max       31.800000  18818.000000  "
      ]
     },
     "execution_count": 4,
     "metadata": {},
     "output_type": "execute_result"
    }
   ],
   "source": [
    "#The describe() method returns description of the data in the DataFrame.\n",
    "\n",
    "data.describe()"
   ]
  },
  {
   "cell_type": "code",
   "execution_count": 5,
   "id": "a5a12b8e",
   "metadata": {},
   "outputs": [
    {
     "name": "stdout",
     "output_type": "stream",
     "text": [
      "Shape of data after dropping duplicate rows:  (26933, 10)\n"
     ]
    }
   ],
   "source": [
    "#dropping duplicate rows\n",
    "\n",
    "data.drop_duplicates(inplace=True)\n",
    "print(\"Shape of data after dropping duplicate rows: \", data.shape)"
   ]
  },
  {
   "cell_type": "code",
   "execution_count": 6,
   "id": "1799c3d9",
   "metadata": {},
   "outputs": [
    {
     "name": "stdout",
     "output_type": "stream",
     "text": [
      "<class 'pandas.core.frame.DataFrame'>\n",
      "Int64Index: 26933 entries, 0 to 26966\n",
      "Data columns (total 10 columns):\n",
      " #   Column   Non-Null Count  Dtype  \n",
      "---  ------   --------------  -----  \n",
      " 0   carat    26933 non-null  float64\n",
      " 1   cut      26933 non-null  object \n",
      " 2   color    26933 non-null  object \n",
      " 3   clarity  26933 non-null  object \n",
      " 4   depth    26236 non-null  float64\n",
      " 5   table    26933 non-null  float64\n",
      " 6   x        26933 non-null  float64\n",
      " 7   y        26933 non-null  float64\n",
      " 8   z        26933 non-null  float64\n",
      " 9   price    26933 non-null  int64  \n",
      "dtypes: float64(6), int64(1), object(3)\n",
      "memory usage: 2.3+ MB\n"
     ]
    }
   ],
   "source": [
    "#data type of each column/feature\n",
    "\n",
    "data.info()"
   ]
  },
  {
   "cell_type": "code",
   "execution_count": 7,
   "id": "47068b50",
   "metadata": {},
   "outputs": [
    {
     "data": {
      "text/plain": [
       "carat        0\n",
       "cut          0\n",
       "color        0\n",
       "clarity      0\n",
       "depth      697\n",
       "table        0\n",
       "x            0\n",
       "y            0\n",
       "z            0\n",
       "price        0\n",
       "dtype: int64"
      ]
     },
     "execution_count": 7,
     "metadata": {},
     "output_type": "execute_result"
    }
   ],
   "source": [
    "#Checking the number of null vales in data\n",
    "# Here, depth column has 697 null values\n",
    "\n",
    "data.isnull().sum()"
   ]
  },
  {
   "cell_type": "code",
   "execution_count": 8,
   "id": "2a27297d",
   "metadata": {},
   "outputs": [
    {
     "name": "stdout",
     "output_type": "stream",
     "text": [
      "Mean: 61.75 \n"
     ]
    }
   ],
   "source": [
    "#fill the null values using mean\n",
    "#could also be done with help of median\n",
    "#inplace=True is to make changes to same dataset\n",
    "\n",
    "print(\"Mean: {:.2f} \".format(data['depth'].mean()))\n",
    "\n",
    "data['depth'].fillna(data['depth'].mean(), inplace=True)#https://pythonguides.com/python-print-2-decimal-places/"
   ]
  },
  {
   "cell_type": "code",
   "execution_count": 9,
   "id": "e39f4442",
   "metadata": {},
   "outputs": [
    {
     "data": {
      "text/plain": [
       "carat      0\n",
       "cut        0\n",
       "color      0\n",
       "clarity    0\n",
       "depth      0\n",
       "table      0\n",
       "x          0\n",
       "y          0\n",
       "z          0\n",
       "price      0\n",
       "dtype: int64"
      ]
     },
     "execution_count": 9,
     "metadata": {},
     "output_type": "execute_result"
    }
   ],
   "source": [
    "#after calculation \n",
    "\n",
    "data.isnull().sum()"
   ]
  },
  {
   "cell_type": "code",
   "execution_count": 10,
   "id": "74e65ebd",
   "metadata": {},
   "outputs": [
    {
     "name": "stdout",
     "output_type": "stream",
     "text": [
      "Index(['carat', 'depth', 'table', 'x', 'y', 'z', 'price'], dtype='object')\n"
     ]
    }
   ],
   "source": [
    "#checking for outliers\n",
    "\n",
    "#as we know we have 7 numerical columns from data.info\n",
    "#printing that columns\n",
    "\n",
    "numerical=data.select_dtypes(include='number')\n",
    "numerical_col=numerical.columns\n",
    "print(numerical_col)"
   ]
  },
  {
   "cell_type": "code",
   "execution_count": 11,
   "id": "26efdca1",
   "metadata": {},
   "outputs": [
    {
     "name": "stdout",
     "output_type": "stream",
     "text": [
      "IQR of carat 0.65\n",
      "IQR of depth 1.40\n",
      "IQR of table 3.00\n",
      "IQR of x 1.84\n",
      "IQR of y 1.83\n",
      "IQR of z 1.14\n",
      "IQR of price 4411.00\n"
     ]
    }
   ],
   "source": [
    "#get Interquartile range \n",
    "\n",
    "for column in numerical_col:\n",
    "    Q1 = data[column].quantile(0.25)\n",
    "    Q3 = data[column].quantile(0.75)\n",
    "    IQR = Q3 - Q1\n",
    "    print('IQR of {} {:.2f}'.format(column,IQR))"
   ]
  },
  {
   "cell_type": "code",
   "execution_count": 12,
   "id": "b9a7f48b",
   "metadata": {},
   "outputs": [
    {
     "data": {
      "image/png": "[encoded data removed]",
      "text/plain": [
       "<Figure size 1440x720 with 7 Axes>"
      ]
     },
     "metadata": {
      "needs_background": "light"
     },
     "output_type": "display_data"
    }
   ],
   "source": [
    "plt.figure(figsize=(20,20))\n",
    "counter=1\n",
    "for column in numerical_col:\n",
    "    plt.subplot(3,3,counter)\n",
    "    sns.boxplot(y=data[column])\n",
    "    counter=counter+1\n",
    "    "
   ]
  },
  {
   "cell_type": "code",
   "execution_count": 13,
   "id": "4ba6c630",
   "metadata": {},
   "outputs": [],
   "source": [
    "#Excluding Outliers \n",
    "\n",
    "for column in numerical_col:\n",
    "    Q1 = data[column].quantile(0.25)\n",
    "    Q3 = data[column].quantile(0.75)\n",
    "    IQR = Q3 - Q1\n",
    "    \n",
    "    lower_bound=Q1-1.5*IQR\n",
    "    upper_bound=Q3+1.5*IQR\n",
    "    \n",
    "    data=data[(data[column]>lower_bound) & (data[column]<upper_bound)]\n",
    "        "
   ]
  },
  {
   "cell_type": "code",
   "execution_count": 14,
   "id": "594d1e9c",
   "metadata": {},
   "outputs": [
    {
     "data": {
      "text/plain": [
       "(23271, 10)"
      ]
     },
     "execution_count": 14,
     "metadata": {},
     "output_type": "execute_result"
    }
   ],
   "source": [
    "#shape of data after removing outliers\n",
    "\n",
    "data.shape"
   ]
  },
  {
   "cell_type": "code",
   "execution_count": 15,
   "id": "ddd28a06",
   "metadata": {},
   "outputs": [
    {
     "data": {
      "image/png": "[encoded data removed]",
      "text/plain": [
       "<Figure size 1440x720 with 7 Axes>"
      ]
     },
     "metadata": {
      "needs_background": "light"
     },
     "output_type": "display_data"
    }
   ],
   "source": [
    "#plotting box-plots without outliers\n",
    "\n",
    "plt.figure(figsize=(20,10))\n",
    "counter=1\n",
    "for column in numerical_col:\n",
    "    plt.subplot(3,3,counter)\n",
    "    sns.boxplot(y=data[column])\n",
    "    counter=counter+1"
   ]
  },
  {
   "cell_type": "code",
   "execution_count": 16,
   "id": "6a1ec491",
   "metadata": {},
   "outputs": [
    {
     "name": "stdout",
     "output_type": "stream",
     "text": [
      "Index(['cut', 'color', 'clarity'], dtype='object')\n"
     ]
    }
   ],
   "source": [
    "#categorical data\n",
    "\n",
    "\n",
    "category=data.select_dtypes(exclude='number')\n",
    "category_col=category.columns\n",
    "print(category_col)\n"
   ]
  },
  {
   "cell_type": "code",
   "execution_count": 17,
   "id": "4844b0ff",
   "metadata": {},
   "outputs": [
    {
     "data": {
      "image/png": "[encoded data removed]",
      "text/plain": [
       "<Figure size 1440x720 with 3 Axes>"
      ]
     },
     "metadata": {
      "needs_background": "light"
     },
     "output_type": "display_data"
    }
   ],
   "source": [
    "#categorical data univariate \n",
    "\n",
    "plt.figure(figsize=(20,10))\n",
    "counter=1\n",
    "for column in category_col:\n",
    "    plt.subplot(1,3,counter)\n",
    "    sns.countplot(x=data[column])\n",
    "    counter=counter+1"
   ]
  },
  {
   "cell_type": "code",
   "execution_count": 18,
   "id": "e2660499",
   "metadata": {},
   "outputs": [
    {
     "data": {
      "image/png": "[encoded data removed]",
      "text/plain": [
       "<Figure size 1080x576 with 9 Axes>"
      ]
     },
     "metadata": {
      "needs_background": "light"
     },
     "output_type": "display_data"
    }
   ],
   "source": [
    "#histograms\n",
    "\n",
    "data[numerical_col].hist(figsize=(15, 8),grid=False)\n",
    "plt.show()"
   ]
  },
  {
   "cell_type": "markdown",
   "id": "d77c0eba",
   "metadata": {},
   "source": [
    "Above you can see are right skewed distribution."
   ]
  },
  {
   "cell_type": "code",
   "execution_count": 19,
   "id": "e18c093d",
   "metadata": {},
   "outputs": [
    {
     "data": {
      "text/plain": [
       "carat    0.710797\n",
       "depth   -0.190490\n",
       "table    0.401213\n",
       "x        0.270281\n",
       "y        0.263250\n",
       "z        0.267562\n",
       "price    1.172117\n",
       "dtype: float64"
      ]
     },
     "execution_count": 19,
     "metadata": {},
     "output_type": "execute_result"
    }
   ],
   "source": [
    "#measuring skewness\n",
    "\n",
    "data[numerical_col].skew()"
   ]
  },
  {
   "cell_type": "code",
   "execution_count": 27,
   "id": "a353feec",
   "metadata": {},
   "outputs": [],
   "source": [
    "X=data.drop('price',axis=1)"
   ]
  },
  {
   "cell_type": "code",
   "execution_count": 21,
   "id": "6f4445e9",
   "metadata": {},
   "outputs": [
    {
     "data": {
      "text/plain": [
       "Text(0.5, 1.0, 'Correlation matrix')"
      ]
     },
     "execution_count": 21,
     "metadata": {},
     "output_type": "execute_result"
    },
    {
     "data": {
      "image/png": "[encoded data removed]",
      "text/plain": [
       "<Figure size 720x720 with 4 Axes>"
      ]
     },
     "metadata": {
      "needs_background": "light"
     },
     "output_type": "display_data"
    }
   ],
   "source": [
    "#multivariate analysis\n",
    "#CORRELATION MATRIX\n",
    "#Higher the number more the correlated columns are\n",
    "\n",
    "corr_matrix = X.corr()\n",
    "sns.clustermap(corr_matrix,cmap='coolwarm',annot=True)\n",
    "plt.title(\"Correlation matrix\")"
   ]
  },
  {
   "cell_type": "code",
   "execution_count": 22,
   "id": "54ec3ad2",
   "metadata": {},
   "outputs": [],
   "source": [
    "#converting text data to numerical data\n",
    "\n",
    "le=LabelEncoder()\n",
    "for ft in category_col:\n",
    "    data[ft]=le.fit_transform(data[ft])"
   ]
  },
  {
   "cell_type": "code",
   "execution_count": 23,
   "id": "59cef4e8",
   "metadata": {},
   "outputs": [
    {
     "data": {
      "text/html": [
       "<div>\n",
       "<style scoped>\n",
       "    .dataframe tbody tr th:only-of-type {\n",
       "        vertical-align: middle;\n",
       "    }\n",
       "\n",
       "    .dataframe tbody tr th {\n",
       "        vertical-align: top;\n",
       "    }\n",
       "\n",
       "    .dataframe thead th {\n",
       "        text-align: right;\n",
       "    }\n",
       "</style>\n",
       "<table border=\"1\" class=\"dataframe\">\n",
       "  <thead>\n",
       "    <tr style=\"text-align: right;\">\n",
       "      <th></th>\n",
       "      <th>carat</th>\n",
       "      <th>cut</th>\n",
       "      <th>color</th>\n",
       "      <th>clarity</th>\n",
       "      <th>depth</th>\n",
       "      <th>table</th>\n",
       "      <th>x</th>\n",
       "      <th>y</th>\n",
       "      <th>z</th>\n",
       "      <th>price</th>\n",
       "    </tr>\n",
       "  </thead>\n",
       "  <tbody>\n",
       "    <tr>\n",
       "      <th>0</th>\n",
       "      <td>0.30</td>\n",
       "      <td>2</td>\n",
       "      <td>1</td>\n",
       "      <td>2</td>\n",
       "      <td>62.1</td>\n",
       "      <td>58.0</td>\n",
       "      <td>4.27</td>\n",
       "      <td>4.29</td>\n",
       "      <td>2.66</td>\n",
       "      <td>499</td>\n",
       "    </tr>\n",
       "    <tr>\n",
       "      <th>1</th>\n",
       "      <td>0.33</td>\n",
       "      <td>3</td>\n",
       "      <td>3</td>\n",
       "      <td>1</td>\n",
       "      <td>60.8</td>\n",
       "      <td>58.0</td>\n",
       "      <td>4.42</td>\n",
       "      <td>4.46</td>\n",
       "      <td>2.70</td>\n",
       "      <td>984</td>\n",
       "    </tr>\n",
       "    <tr>\n",
       "      <th>2</th>\n",
       "      <td>0.90</td>\n",
       "      <td>4</td>\n",
       "      <td>1</td>\n",
       "      <td>7</td>\n",
       "      <td>62.2</td>\n",
       "      <td>60.0</td>\n",
       "      <td>6.04</td>\n",
       "      <td>6.12</td>\n",
       "      <td>3.78</td>\n",
       "      <td>6289</td>\n",
       "    </tr>\n",
       "    <tr>\n",
       "      <th>3</th>\n",
       "      <td>0.42</td>\n",
       "      <td>2</td>\n",
       "      <td>2</td>\n",
       "      <td>4</td>\n",
       "      <td>61.6</td>\n",
       "      <td>56.0</td>\n",
       "      <td>4.82</td>\n",
       "      <td>4.80</td>\n",
       "      <td>2.96</td>\n",
       "      <td>1082</td>\n",
       "    </tr>\n",
       "    <tr>\n",
       "      <th>4</th>\n",
       "      <td>0.31</td>\n",
       "      <td>2</td>\n",
       "      <td>2</td>\n",
       "      <td>6</td>\n",
       "      <td>60.4</td>\n",
       "      <td>59.0</td>\n",
       "      <td>4.35</td>\n",
       "      <td>4.43</td>\n",
       "      <td>2.65</td>\n",
       "      <td>779</td>\n",
       "    </tr>\n",
       "  </tbody>\n",
       "</table>\n",
       "</div>"
      ],
      "text/plain": [
       "   carat  cut  color  clarity  depth  table     x     y     z  price\n",
       "0   0.30    2      1        2   62.1   58.0  4.27  4.29  2.66    499\n",
       "1   0.33    3      3        1   60.8   58.0  4.42  4.46  2.70    984\n",
       "2   0.90    4      1        7   62.2   60.0  6.04  6.12  3.78   6289\n",
       "3   0.42    2      2        4   61.6   56.0  4.82  4.80  2.96   1082\n",
       "4   0.31    2      2        6   60.4   59.0  4.35  4.43  2.65    779"
      ]
     },
     "execution_count": 23,
     "metadata": {},
     "output_type": "execute_result"
    }
   ],
   "source": [
    "data.head()"
   ]
  },
  {
   "cell_type": "code",
   "execution_count": 29,
   "id": "ecb29106",
   "metadata": {},
   "outputs": [],
   "source": [
    "#standindizing columns\n",
    "\n",
    "X=data.drop('price',axis=1)\n",
    "from sklearn.preprocessing import StandardScaler\n",
    "scaler = StandardScaler()\n",
    "X_scaled=scaler.fit_transform(X)"
   ]
  },
  {
   "cell_type": "code",
   "execution_count": 30,
   "id": "ce4ef480",
   "metadata": {},
   "outputs": [],
   "source": [
    "Y=data['price']"
   ]
  },
  {
   "cell_type": "code",
   "execution_count": 31,
   "id": "7d38c172",
   "metadata": {},
   "outputs": [],
   "source": [
    "#Train Test split(30% randomly selected data points as test data)\n",
    "\n",
    "from sklearn.model_selection import train_test_split\n",
    "x_train,x_test,y_train,y_test=train_test_split(X_scaled,Y,test_size=0.3,random_state=0)"
   ]
  },
  {
   "cell_type": "code",
   "execution_count": 32,
   "id": "94a40efb",
   "metadata": {},
   "outputs": [
    {
     "data": {
      "text/plain": [
       "0.8932237791943829"
      ]
     },
     "execution_count": 32,
     "metadata": {},
     "output_type": "execute_result"
    }
   ],
   "source": [
    "#Linear Regression model\n",
    "\n",
    "from sklearn.linear_model import LinearRegression\n",
    "\n",
    "model=LinearRegression()\n",
    "model.fit(x_train,y_train)\n",
    "y_pred = model.predict(x_test)\n",
    "\n",
    "#accuracy\n",
    "model.score(x_test,y_test)"
   ]
  }
 ],
 "metadata": {
  "kernelspec": {
   "display_name": "Python 3 (ipykernel)",
   "language": "python",
   "name": "python3"
  },
  "language_info": {
   "codemirror_mode": {
    "name": "ipython",
    "version": 3
   },
   "file_extension": ".py",
   "mimetype": "text/x-python",
   "name": "python",
   "nbconvert_exporter": "python",
   "pygments_lexer": "ipython3",
   "version": "3.9.13"
  }
 },
 "nbformat": 4,
 "nbformat_minor": 5
}
